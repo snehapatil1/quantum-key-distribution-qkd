{
 "cells": [
  {
   "cell_type": "markdown",
   "id": "89106cee",
   "metadata": {},
   "source": [
    "### Key Exchange using BB84 Protocol"
   ]
  },
  {
   "cell_type": "code",
   "execution_count": 80,
   "id": "6e9f1eb4-646c-4e80-ab69-1c18e87fbb2a",
   "metadata": {},
   "outputs": [],
   "source": [
    "import matplotlib.pyplot as plt\n",
    "from qkd.bb84 import run_bb84\n",
    "from qkd.eve import run_bb84_with_eve\n",
    "from qkd.utils import print_key_summary\n",
    "\n",
    "# Simulate secure communication\n",
    "alice_key, bob_key, indices = run_bb84(200)\n",
    "print_key_summary(alice_key, bob_key)\n",
    "\n",
    "# Simulate attack\n",
    "a_key_e, b_key_e, idx_e, err_rate = run_bb84_with_eve(200)\n",
    "print(f\"Error rate with Eve: {err_rate:.2%}\")\n",
    "print_key_summary(a_key_e, b_key_e)\n",
    "\n",
    "# Visualization\n",
    "plt.bar([\"No Eve\", \"With Eve\"], [1.0, 1.0 - err_rate], color=[\"green\", \"red\"])\n",
    "plt.ylabel(\"Key Agreement Ratio\")\n",
    "plt.title(\"Impact of Eavesdropping on BB84 Protocol\")\n",
    "plt.show()\n"
   ]
  }
 ],
 "metadata": {
  "kernelspec": {
   "display_name": "Python 3 (ipykernel)",
   "language": "python",
   "name": "python3"
  },
  "language_info": {
   "codemirror_mode": {
    "name": "ipython",
    "version": 3
   },
   "file_extension": ".py",
   "mimetype": "text/x-python",
   "name": "python",
   "nbconvert_exporter": "python",
   "pygments_lexer": "ipython3",
   "version": "3.13.3"
  }
 },
 "nbformat": 4,
 "nbformat_minor": 5
}
